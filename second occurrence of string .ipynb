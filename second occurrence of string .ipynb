{
 "cells": [
  {
   "cell_type": "code",
   "execution_count": 1,
   "metadata": {
    "collapsed": false
   },
   "outputs": [
    {
     "data": {
      "text/plain": [
       "19"
      ]
     },
     "execution_count": 1,
     "metadata": {},
     "output_type": "execute_result"
    }
   ],
   "source": [
    "s=\"python programming python\"\n",
    "s.index('python',s.index('python')+1)"
   ]
  },
  {
   "cell_type": "code",
   "execution_count": 2,
   "metadata": {
    "collapsed": false
   },
   "outputs": [
    {
     "name": "stdout",
     "output_type": "stream",
     "text": [
      "Enter a string:python c cpp python\n",
      "Enter substring to find count:c\n",
      "2\n"
     ]
    },
    {
     "data": {
      "text/plain": [
       "9"
      ]
     },
     "execution_count": 2,
     "metadata": {},
     "output_type": "execute_result"
    }
   ],
   "source": [
    "#Second occurance of a given string\n",
    "str=raw_input(\"Enter a string:\")\n",
    "s = str.lower()\n",
    "sub = raw_input(\"Enter substring to find count:\")\n",
    "sub = sub.lower()\n",
    "print s.count(sub)\n",
    "s.index(sub,s.index(sub)+1)\n",
    "#print s,sub"
   ]
  },
  {
   "cell_type": "code",
   "execution_count": 9,
   "metadata": {
    "collapsed": false
   },
   "outputs": [
    {
     "name": "stdout",
     "output_type": "stream",
     "text": [
      "[1, 2, 3, 1, 2, 3, 4, 5, 7]\n"
     ]
    }
   ],
   "source": [
    "#Make two dimentional list to one dimentional:\n",
    "l2=[]\n",
    "l=[1,2,3,[1,2,3],4,[5,7]]\n",
    "for i in l:\n",
    "\tif isinstance(i,list):\n",
    "\t\tl2.extend(i)\n",
    "\telse:\n",
    "\t\tl2.append(i)\n",
    "print l2"
   ]
  },
  {
   "cell_type": "code",
   "execution_count": 10,
   "metadata": {
    "collapsed": false
   },
   "outputs": [],
   "source": [
    "l2.extend?\n",
    "#Docstring: L.extend(iterable) -- extend list by appending elements from the iterable\n",
    "#Type:      builtin_function_or_method\n"
   ]
  },
  {
   "cell_type": "code",
   "execution_count": 18,
   "metadata": {
    "collapsed": false
   },
   "outputs": [],
   "source": [
    "isinstance?\n",
    "#Docstring:\n",
    "#isinstance(object, class-or-type-or-tuple) -> bool\n",
    "\n",
    "# Return whether an object is an instance of a class or of a subclass thereof.\n",
    " #With a type as second argument, return whether that is the object's type.\n",
    "#The form using a tuple, isinstance(x, (A, B, ...)), is a shortcut for\n",
    "#isinstance(x, A) or isinstance(x, B) or ... (etc.).\n",
    "#Type:      builtin_function_or_method\"\"\""
   ]
  },
  {
   "cell_type": "code",
   "execution_count": null,
   "metadata": {
    "collapsed": false
   },
   "outputs": [],
   "source": [
    "#### Find out the nth occurance index in a list or string\n",
    "while 1:\n",
    "    l=['10','20','30','10','20','10','40','50','30','40','60','70','10']\n",
    "    temp=0\n",
    "    t1=-1\n",
    "    element_find=raw_input(\"Enter the value:\")\n",
    "    occurance_number=raw_input(\"Enter the nth occurance:\")\n",
    "    occurance_number=int(occurance_number)\n",
    "    exlement_count = l.count(element_find)\n",
    "    if occurance_number<=exlement_count:\n",
    "        for i in l:\n",
    "            t1=t1+1\n",
    "            if i == element_find:\n",
    "                temp = temp+1\n",
    "                if temp == occurance_number:\n",
    "                        print t1\n",
    "                        break\n",
    "    else:\n",
    "        print \"Enter the valid occurance\""
   ]
  },
  {
   "cell_type": "code",
   "execution_count": 1,
   "metadata": {
    "collapsed": false
   },
   "outputs": [
    {
     "name": "stdout",
     "output_type": "stream",
     "text": [
      "[10, 20, 30, 40]\n"
     ]
    }
   ],
   "source": [
    "l=[10,20,30,40]\n",
    "print l\n"
   ]
  },
  {
   "cell_type": "code",
   "execution_count": 2,
   "metadata": {
    "collapsed": false
   },
   "outputs": [
    {
     "name": "stdout",
     "output_type": "stream",
     "text": [
      "[[], ['a'], ['a', 'b'], ['b'], ['a', 'b', 'c'], ['b', 'c'], ['c'], ['c', 'a']]\n"
     ]
    }
   ],
   "source": [
    "#Assignment 11:\n",
    "#input fun('abc')\n",
    "#output: [[],][a],[b],[c],[a,b],[b,c],[c,a],[a,b,c]]\n",
    "def fy(s):\n",
    "    result=[]\n",
    "    result.append([])\n",
    "    for i in range(len(s)+1): \n",
    "        for j in range(i):\n",
    "            result.append(list(s[j:i]))\n",
    "    result.append([s[-1],s[0]])\n",
    "    print result\n",
    "fy('abc')"
   ]
  },
  {
   "cell_type": "code",
   "execution_count": 5,
   "metadata": {
    "collapsed": false
   },
   "outputs": [
    {
     "name": "stdout",
     "output_type": "stream",
     "text": [
      "[1, 2, 3, 4]\n"
     ]
    }
   ],
   "source": [
    "#Assignment 12:\n",
    "#Remove duplicates from the list:\n",
    "a=[1,2,3,2,3,4,1,3,4]\n",
    "s=set(a)\n",
    "s1=s.copy()\n",
    "a=[s.pop() for i in s1][::1]\n",
    "print a\n"
   ]
  },
  {
   "cell_type": "code",
   "execution_count": 6,
   "metadata": {
    "collapsed": false
   },
   "outputs": [
    {
     "name": "stdout",
     "output_type": "stream",
     "text": [
      "[1, 2, 3, 4]\n"
     ]
    }
   ],
   "source": [
    "print a[::1]"
   ]
  },
  {
   "cell_type": "code",
   "execution_count": 7,
   "metadata": {
    "collapsed": false
   },
   "outputs": [
    {
     "name": "stdout",
     "output_type": "stream",
     "text": [
      "[1, 2, 3, 4]\n"
     ]
    }
   ],
   "source": [
    "print a\n"
   ]
  },
  {
   "cell_type": "code",
   "execution_count": 19,
   "metadata": {
    "collapsed": false
   },
   "outputs": [
    {
     "name": "stdout",
     "output_type": "stream",
     "text": [
      "[1, 2, 3, 2, 3, 4, 1, 3, 4]\n"
     ]
    }
   ],
   "source": [
    "a=[1,2,3,2,3,4,1,3,4]\n",
    "print a[::1]"
   ]
  },
  {
   "cell_type": "code",
   "execution_count": 20,
   "metadata": {
    "collapsed": false
   },
   "outputs": [
    {
     "name": "stdout",
     "output_type": "stream",
     "text": [
      "2\n"
     ]
    }
   ],
   "source": [
    "print a[1]"
   ]
  },
  {
   "cell_type": "code",
   "execution_count": 23,
   "metadata": {
    "collapsed": false
   },
   "outputs": [
    {
     "name": "stdout",
     "output_type": "stream",
     "text": [
      "[1, 3, 3, 1, 4]\n"
     ]
    }
   ],
   "source": [
    "print a[::2]"
   ]
  },
  {
   "cell_type": "code",
   "execution_count": 29,
   "metadata": {
    "collapsed": false
   },
   "outputs": [
    {
     "name": "stdout",
     "output_type": "stream",
     "text": [
      "[1, 2]\n"
     ]
    }
   ],
   "source": [
    "print a[:2]"
   ]
  },
  {
   "cell_type": "code",
   "execution_count": 28,
   "metadata": {
    "collapsed": false
   },
   "outputs": [
    {
     "name": "stdout",
     "output_type": "stream",
     "text": [
      "10 2\n",
      "20 2\n",
      "30 3\n",
      "40 3\n",
      "50 3\n",
      "60 2\n"
     ]
    }
   ],
   "source": [
    "l=[10,20,30,10,30,40,50,60,40,50,60,20,30,40,50]\n",
    "#l=int(raw_input(\"enter a list\"))\n",
    "uniqu=[]\n",
    "for i in l:\n",
    "    if i not in uniqu:\n",
    "        uniqu.append(i)\n",
    "for i in uniqu:\n",
    "    if l.count(i)>1:\n",
    "        print i,l.count(i)\n",
    "    "
   ]
  },
  {
   "cell_type": "code",
   "execution_count": null,
   "metadata": {
    "collapsed": true
   },
   "outputs": [],
   "source": []
  }
 ],
 "metadata": {
  "anaconda-cloud": {},
  "kernelspec": {
   "display_name": "Python [conda root]",
   "language": "python",
   "name": "conda-root-py"
  },
  "language_info": {
   "codemirror_mode": {
    "name": "ipython",
    "version": 2
   },
   "file_extension": ".py",
   "mimetype": "text/x-python",
   "name": "python",
   "nbconvert_exporter": "python",
   "pygments_lexer": "ipython2",
   "version": "2.7.12"
  }
 },
 "nbformat": 4,
 "nbformat_minor": 1
}
